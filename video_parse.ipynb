{
  "cells": [
    {
      "cell_type": "code",
      "execution_count": 2,
      "metadata": {
        "colab": {
          "base_uri": "https://localhost:8080/"
        },
        "collapsed": true,
        "id": "FaaYCddJVO_v",
        "outputId": "2d6a5503-9798-401f-b3de-d84913dbaf13"
      },
      "outputs": [
        {
          "name": "stdout",
          "output_type": "stream",
          "text": [
            "Requirement already satisfied: moviepy in /usr/local/lib/python3.10/dist-packages (1.0.3)\n",
            "Collecting openai\n",
            "  Downloading openai-1.40.1-py3-none-any.whl.metadata (22 kB)\n",
            "Requirement already satisfied: decorator<5.0,>=4.0.2 in /usr/local/lib/python3.10/dist-packages (from moviepy) (4.4.2)\n",
            "Requirement already satisfied: tqdm<5.0,>=4.11.2 in /usr/local/lib/python3.10/dist-packages (from moviepy) (4.66.5)\n",
            "Requirement already satisfied: requests<3.0,>=2.8.1 in /usr/local/lib/python3.10/dist-packages (from moviepy) (2.32.3)\n",
            "Requirement already satisfied: proglog<=1.0.0 in /usr/local/lib/python3.10/dist-packages (from moviepy) (0.1.10)\n",
            "Requirement already satisfied: numpy>=1.17.3 in /usr/local/lib/python3.10/dist-packages (from moviepy) (1.26.4)\n",
            "Requirement already satisfied: imageio<3.0,>=2.5 in /usr/local/lib/python3.10/dist-packages (from moviepy) (2.34.2)\n",
            "Requirement already satisfied: imageio-ffmpeg>=0.2.0 in /usr/local/lib/python3.10/dist-packages (from moviepy) (0.5.1)\n",
            "Requirement already satisfied: anyio<5,>=3.5.0 in /usr/local/lib/python3.10/dist-packages (from openai) (3.7.1)\n",
            "Requirement already satisfied: distro<2,>=1.7.0 in /usr/lib/python3/dist-packages (from openai) (1.7.0)\n",
            "Collecting httpx<1,>=0.23.0 (from openai)\n",
            "  Downloading httpx-0.27.0-py3-none-any.whl.metadata (7.2 kB)\n",
            "Collecting jiter<1,>=0.4.0 (from openai)\n",
            "  Downloading jiter-0.5.0-cp310-cp310-manylinux_2_17_x86_64.manylinux2014_x86_64.whl.metadata (3.6 kB)\n",
            "Requirement already satisfied: pydantic<3,>=1.9.0 in /usr/local/lib/python3.10/dist-packages (from openai) (2.8.2)\n",
            "Requirement already satisfied: sniffio in /usr/local/lib/python3.10/dist-packages (from openai) (1.3.1)\n",
            "Requirement already satisfied: typing-extensions<5,>=4.11 in /usr/local/lib/python3.10/dist-packages (from openai) (4.12.2)\n",
            "Requirement already satisfied: idna>=2.8 in /usr/local/lib/python3.10/dist-packages (from anyio<5,>=3.5.0->openai) (3.7)\n",
            "Requirement already satisfied: exceptiongroup in /usr/local/lib/python3.10/dist-packages (from anyio<5,>=3.5.0->openai) (1.2.2)\n",
            "Requirement already satisfied: certifi in /usr/local/lib/python3.10/dist-packages (from httpx<1,>=0.23.0->openai) (2024.7.4)\n",
            "Collecting httpcore==1.* (from httpx<1,>=0.23.0->openai)\n",
            "  Downloading httpcore-1.0.5-py3-none-any.whl.metadata (20 kB)\n",
            "Collecting h11<0.15,>=0.13 (from httpcore==1.*->httpx<1,>=0.23.0->openai)\n",
            "  Downloading h11-0.14.0-py3-none-any.whl.metadata (8.2 kB)\n",
            "Requirement already satisfied: pillow>=8.3.2 in /usr/local/lib/python3.10/dist-packages (from imageio<3.0,>=2.5->moviepy) (9.4.0)\n",
            "Requirement already satisfied: setuptools in /usr/local/lib/python3.10/dist-packages (from imageio-ffmpeg>=0.2.0->moviepy) (71.0.4)\n",
            "Requirement already satisfied: annotated-types>=0.4.0 in /usr/local/lib/python3.10/dist-packages (from pydantic<3,>=1.9.0->openai) (0.7.0)\n",
            "Requirement already satisfied: pydantic-core==2.20.1 in /usr/local/lib/python3.10/dist-packages (from pydantic<3,>=1.9.0->openai) (2.20.1)\n",
            "Requirement already satisfied: charset-normalizer<4,>=2 in /usr/local/lib/python3.10/dist-packages (from requests<3.0,>=2.8.1->moviepy) (3.3.2)\n",
            "Requirement already satisfied: urllib3<3,>=1.21.1 in /usr/local/lib/python3.10/dist-packages (from requests<3.0,>=2.8.1->moviepy) (2.0.7)\n",
            "Downloading openai-1.40.1-py3-none-any.whl (360 kB)\n",
            "\u001b[2K   \u001b[90m━━━━━━━━━━━━━━━━━━━━━━━━━━━━━━━━━━━━━━━━\u001b[0m \u001b[32m360.4/360.4 kB\u001b[0m \u001b[31m7.5 MB/s\u001b[0m eta \u001b[36m0:00:00\u001b[0m\n",
            "\u001b[?25hDownloading httpx-0.27.0-py3-none-any.whl (75 kB)\n",
            "\u001b[2K   \u001b[90m━━━━━━━━━━━━━━━━━━━━━━━━━━━━━━━━━━━━━━━━\u001b[0m \u001b[32m75.6/75.6 kB\u001b[0m \u001b[31m4.9 MB/s\u001b[0m eta \u001b[36m0:00:00\u001b[0m\n",
            "\u001b[?25hDownloading httpcore-1.0.5-py3-none-any.whl (77 kB)\n",
            "\u001b[2K   \u001b[90m━━━━━━━━━━━━━━━━━━━━━━━━━━━━━━━━━━━━━━━━\u001b[0m \u001b[32m77.9/77.9 kB\u001b[0m \u001b[31m5.3 MB/s\u001b[0m eta \u001b[36m0:00:00\u001b[0m\n",
            "\u001b[?25hDownloading jiter-0.5.0-cp310-cp310-manylinux_2_17_x86_64.manylinux2014_x86_64.whl (318 kB)\n",
            "\u001b[2K   \u001b[90m━━━━━━━━━━━━━━━━━━━━━━━━━━━━━━━━━━━━━━━━\u001b[0m \u001b[32m318.9/318.9 kB\u001b[0m \u001b[31m16.8 MB/s\u001b[0m eta \u001b[36m0:00:00\u001b[0m\n",
            "\u001b[?25hDownloading h11-0.14.0-py3-none-any.whl (58 kB)\n",
            "\u001b[2K   \u001b[90m━━━━━━━━━━━━━━━━━━━━━━━━━━━━━━━━━━━━━━━━\u001b[0m \u001b[32m58.3/58.3 kB\u001b[0m \u001b[31m3.8 MB/s\u001b[0m eta \u001b[36m0:00:00\u001b[0m\n",
            "\u001b[?25hInstalling collected packages: jiter, h11, httpcore, httpx, openai\n",
            "Successfully installed h11-0.14.0 httpcore-1.0.5 httpx-0.27.0 jiter-0.5.0 openai-1.40.1\n",
            "Collecting mysql-connector-python\n",
            "  Downloading mysql_connector_python-9.0.0-cp310-cp310-manylinux_2_17_x86_64.whl.metadata (2.0 kB)\n",
            "Downloading mysql_connector_python-9.0.0-cp310-cp310-manylinux_2_17_x86_64.whl (19.3 MB)\n",
            "\u001b[2K   \u001b[90m━━━━━━━━━━━━━━━━━━━━━━━━━━━━━━━━━━━━━━━━\u001b[0m \u001b[32m19.3/19.3 MB\u001b[0m \u001b[31m65.5 MB/s\u001b[0m eta \u001b[36m0:00:00\u001b[0m\n",
            "\u001b[?25hInstalling collected packages: mysql-connector-python\n",
            "Successfully installed mysql-connector-python-9.0.0\n"
          ]
        }
      ],
      "source": [
        "# Install necessary libraries\n",
        "!pip install moviepy openai"
      ]
    },
    {
      "cell_type": "code",
      "execution_count": 3,
      "metadata": {
        "id": "UQyCfLVWVSFV"
      },
      "outputs": [],
      "source": [
        "# Import necessary libraries\n",
        "from moviepy.editor import VideoFileClip\n",
        "import re"
      ]
    },
    {
      "cell_type": "code",
      "execution_count": 4,
      "metadata": {
        "id": "_kHkBd0MVSEb"
      },
      "outputs": [],
      "source": [
        "# Load video\n",
        "video = VideoFileClip('DCR overview.mp4')"
      ]
    },
    {
      "cell_type": "code",
      "execution_count": 5,
      "metadata": {
        "colab": {
          "base_uri": "https://localhost:8080/"
        },
        "id": "9gzlUOi7Vva7",
        "outputId": "51632397-c905-48a2-d53d-f7e0a890c719"
      },
      "outputs": [
        {
          "name": "stdout",
          "output_type": "stream",
          "text": [
            "MoviePy - Writing audio in video_audio.wav\n"
          ]
        },
        {
          "name": "stderr",
          "output_type": "stream",
          "text": []
        },
        {
          "name": "stdout",
          "output_type": "stream",
          "text": [
            "MoviePy - Done.\n"
          ]
        }
      ],
      "source": [
        "from openai import OpenAI\n",
        "\n",
        "client = OpenAI(api_key='YOUR OPENAI KEY')\n",
        "\n",
        "def transcribe_audio(video):\n",
        "    # Extract audio\n",
        "    audio_file_path = 'video_audio.wav'\n",
        "    video.audio.write_audiofile(audio_file_path)\n",
        "\n",
        "    # Transcribe using OpenAI\n",
        "    with open(audio_file_path, 'rb') as audio_file:\n",
        "        transcription = client.audio.transcriptions.create(\n",
        "            model=\"whisper-1\",\n",
        "            file=audio_file,\n",
        "            response_format=\"verbose_json\",\n",
        "            timestamp_granularities=[\"segment\"]\n",
        "        )\n",
        "    return transcription.segments\n",
        "\n",
        "audio_transcription = transcribe_audio(video)"
      ]
    },
    {
      "cell_type": "code",
      "execution_count": 6,
      "metadata": {
        "colab": {
          "base_uri": "https://localhost:8080/"
        },
        "id": "k6AVpECUWFyz",
        "outputId": "42ecdda7-b6d0-4164-d8c9-71808475ac13"
      },
      "outputs": [
        {
          "name": "stdout",
          "output_type": "stream",
          "text": [
            "[{'text': ' The first report is for all devices, including CTV.', 'start': 0.0, 'end': 12.239999771118164}, {'text': ' Looking at the pivot table for April, the total reach was 2.3 billion, so 2,370,069,038,', 'start': 12.239999771118164, 'end': 25.239999771118164}, {'text': ' and this is for the whole audience.', 'start': 25.239999771118164, 'end': 28.399999618530273}, {'text': ' For 18+, it was 2,363,666,772.', 'start': 28.399999618530273, 'end': 36.959999084472656}, {'text': ' For May, 18+, it was 2,421,175,412, and the total reach for May was 2,427,415,712.', 'start': 36.959999084472656, 'end': 56.08000183105469}, {'text': ' If we look at watch time, instead of reach, we see the total watch time for 18+, in April,', 'start': 56.08000183105469, 'end': 68.87999725341797}, {'text': ' was 17,858,883,395, and for May, it was 18,230,148,949.', 'start': 68.87999725341797, 'end': 81.68000030517578}, {'text': ' We can repeat the same exercise for CTV only, so for CTV only, for 18+, the total reach', 'start': 86.08000183105469, 'end': 100.87999725341797}, {'text': ' was 2,920,230,254 for April, and for May, it was 2,960,705,540.', 'start': 100.87999725341797, 'end': 114.76000213623047}, {'text': ' Total watch time for CTV in May was 2,55,215,486,163, and for May, it was 2,57,339,257,587.', 'start': 114.76000213623047, 'end': 131.63999938964844}]\n"
          ]
        }
      ],
      "source": [
        "# Extract text segments from JSON output\n",
        "text_segments = [{'text': segment['text'], 'start': segment['start'], 'end': segment['end']} for segment in audio_transcription]\n",
        "print(text_segments)"
      ]
    },
    {
      "cell_type": "code",
      "execution_count": 7,
      "metadata": {
        "colab": {
          "base_uri": "https://localhost:8080/"
        },
        "id": "kjC7X8X95Vru",
        "outputId": "f796d880-49de-4e7a-8f75-15700ac2e80f"
      },
      "outputs": [
        {
          "name": "stdout",
          "output_type": "stream",
          "text": [
            "[{'text': ' The first report is for all devices, including CTV.  Looking at the pivot table for April, the total reach was 2.3 billion, so 2,370,069,038,', 'start': 0.0, 'end': 25.239999771118164}, {'text': ' and this is for the whole audience.  For 18+, it was 2,363,666,772.', 'start': 25.239999771118164, 'end': 36.959999084472656}, {'text': ' For May, 18+, it was 2,421,175,412, and the total reach for May was 2,427,415,712.  If we look at watch time, instead of reach, we see the total watch time for 18+, in April,', 'start': 36.959999084472656, 'end': 68.87999725341797}, {'text': ' was 17,858,883,395, and for May, it was 18,230,148,949.  We can repeat the same exercise for CTV only, so for CTV only, for 18+, the total reach', 'start': 68.87999725341797, 'end': 100.87999725341797}, {'text': ' was 2,920,230,254 for April, and for May, it was 2,960,705,540.  Total watch time for CTV in May was 2,55,215,486,163, and for May, it was 2,57,339,257,587.', 'start': 100.87999725341797, 'end': 131.63999938964844}]\n"
          ]
        }
      ],
      "source": [
        "# Combine related segments where one contains conditions and another contains values\n",
        "def combine_segments(text_segments):\n",
        "    combined_segments = []\n",
        "    i = 0\n",
        "    while i < len(text_segments):\n",
        "        segment = text_segments[i]\n",
        "        if i + 1 < len(text_segments) and re.search(r'\\d', text_segments[i + 1]['text']):\n",
        "            # Combine current segment with the next one if it contains a value\n",
        "            combined_text = segment['text'] + ' ' + text_segments[i + 1]['text']\n",
        "            combined_segment = {'text': combined_text, 'start': segment['start'], 'end': text_segments[i + 1]['end']}\n",
        "            combined_segments.append(combined_segment)\n",
        "            i += 2\n",
        "        else:\n",
        "            combined_segments.append(segment)\n",
        "            i += 1\n",
        "    return combined_segments\n",
        "\n",
        "combined_segments = combine_segments(text_segments)\n",
        "print(combined_segments)\n"
      ]
    },
    {
      "cell_type": "code",
      "execution_count": 8,
      "metadata": {
        "colab": {
          "base_uri": "https://localhost:8080/"
        },
        "id": "_idg14RD6RRg",
        "outputId": "f1791894-b03e-4d62-ae68-08f1888874f2"
      },
      "outputs": [
        {
          "name": "stdout",
          "output_type": "stream",
          "text": [
            "[{'text': ' The first report is for all devices, including CTV.  Looking at the pivot table for April, the total reach was 2.3 billion, so 2,370,069,038,', 'start': 0.0, 'end': 25.239999771118164}, {'text': ' and this is for the whole audience.  For 18+, it was 2,363,666,772.', 'start': 25.239999771118164, 'end': 36.959999084472656}, {'text': ' For May, 18+, it was 2,421,175,412, and the total reach for May was 2,427,415,712.  If we look at watch time, instead of reach, we see the total watch time for 18+, in April,', 'start': 36.959999084472656, 'end': 68.87999725341797}, {'text': ' was 17,858,883,395, and for May, it was 18,230,148,949.  We can repeat the same exercise for CTV only, so for CTV only, for 18+, the total reach', 'start': 68.87999725341797, 'end': 100.87999725341797}, {'text': ' was 2,920,230,254 for April, and for May, it was 2,960,705,540.  Total watch time for CTV in May was 2,55,215,486,163, and for May, it was 2,57,339,257,587.', 'start': 100.87999725341797, 'end': 131.63999938964844}]\n"
          ]
        }
      ],
      "source": [
        "# Function to filter out segments that do not contain numbers\n",
        "def filter_segments_with_numbers(segments):\n",
        "    filtered_segments = []\n",
        "    for segment in segments:\n",
        "        text = segment['text'].strip()\n",
        "        # Keep segments that contain at least one digit\n",
        "        if re.search(r'\\d', text):\n",
        "            filtered_segments.append(segment)\n",
        "    return filtered_segments\n",
        "\n",
        "filtered_segments = filter_segments_with_numbers(combined_segments)\n",
        "print(filtered_segments)"
      ]
    },
    {
      "cell_type": "code",
      "execution_count": 29,
      "metadata": {
        "id": "t_wCSAQFZJpz"
      },
      "outputs": [],
      "source": [
        "def extract_watch_time_metrics_and_generate_sql(text_segments):\n",
        "    sql_queries = []\n",
        "    example_query = \"\"\"\n",
        "    Base SQL Queries:\n",
        "    SELECT MAX(watch_time_min) AS watch_time_min FROM yt_mp_relaylog_data.FirstPartyWatchViews.all WHERE start_date IN ('2024-04') AND platform = 'DESKTOP_MOBILE_TABLET_TV' AND country = 'US' AND partner = 'NIELSEN' AND min_sec = 0 AND timezone = 'America/New_York';\n",
        "\n",
        "    SQL Schema:\n",
        "      start_date          STRING\n",
        "      timezone            STRING\n",
        "      country             STRING\n",
        "      platform            STRING\n",
        "      min_sec             INT64\n",
        "      partner             STRING\n",
        "      watch_time_min      DOUBLE\n",
        "      views               DOUBLE\n",
        "    \"\"\"\n",
        "\n",
        "    for segment in text_segments:\n",
        "        text = segment['text']\n",
        "        start = segment['start']\n",
        "        end = segment['end']\n",
        "\n",
        "        user_message = f\"\"\"\n",
        "        Extract the total watch time value in number format without any descriptions and generate an SQL query based on the following text segment from a transcribed video.\n",
        "\n",
        "        Text Segment:\n",
        "        {text}\n",
        "\n",
        "        {example_query}\n",
        "\n",
        "        Key Points:\n",
        "          -Use the default query, but if the conditions in the Schema are mentioned in the text segment, update that part. Don't add any extra WHERE conditions.\n",
        "          -Convert CTV to TV, All to DESKTOP_MOBILE_TABLET_TV.\n",
        "          -SQL operators should be UPPERCASE.\n",
        "\n",
        "        Output Format:\n",
        "        Value: [total watch time value in number format without any descriptions], SQL Query: [Generated SQL query]\n",
        "        \"\"\"\n",
        "\n",
        "        try:\n",
        "            response = client.chat.completions.create(\n",
        "                model=\"gpt-4\",\n",
        "                messages=[\n",
        "                    {\"role\": \"system\", \"content\": \"You are a helpful assistant that extracts metrics and generates SQL queries. Ensure the SQL queries are accurate, based on the given schema.\"},\n",
        "                    {\"role\": \"user\", \"content\": user_message},\n",
        "                ]\n",
        "            )\n",
        "\n",
        "            result = response.choices[0].message.content\n",
        "            sql_queries.append({'text': result, 'start': start, 'end': end})\n",
        "        except Exception as e:\n",
        "            sql_queries.append({'text': f\"Error: {str(e)}\", 'start': start, 'end': end})\n",
        "\n",
        "    return sql_queries\n"
      ]
    },
    {
      "cell_type": "code",
      "execution_count": 30,
      "metadata": {
        "id": "ASKQ3aUOSxOs"
      },
      "outputs": [],
      "source": [
        "def extract_reach_metrics_and_generate_sql(text_segments):\n",
        "    sql_queries = []\n",
        "    example_query = \"\"\"\n",
        "     Base SQL Queries:\n",
        "     select sum(editorial_reach) as editorial_reach from ads_people_metrics.yt_reach_artifacts.2024 where country_code = 'US' and device = 'CTV' and model like 'quito_%' AND start_date = 20240401\n",
        "     - start_date (INT64): Date in the format 2024MM01, without quotes\n",
        "    - country_code (STRING)\n",
        "    - device (STRING)\n",
        "    - age_range (STRING)\n",
        "    - gender (STRING)\n",
        "    - editorial_reach (INT64)\n",
        "     \"\"\"\n",
        "\n",
        "    for segment in text_segments:\n",
        "        text = segment['text']\n",
        "        start = segment['start']\n",
        "        end = segment['end']\n",
        "\n",
        "        user_message = f\"\"\"\n",
        "        Extract the total reach value in number format without any descriptions and generate an SQL query based on the following text segment from a transcribed video.\n",
        "        Text Segment:\n",
        "        {text}\n",
        "\n",
        "        {example_query}\n",
        "\n",
        "        Key Points:\n",
        "          -use age_range with the format '0-99', min_age = 0, max_age = 99\n",
        "          -if age_range is 18-99 then would simply put age_range `NOT IN ('0-17')` etc\n",
        "          -Use the default query, but if the conditions in the Schema are mentioned in the text segment, update that part. Don't add any extra WHERE conditions.\n",
        "          -SQL operators should be UPPERCASE.\n",
        "\n",
        "\n",
        "        Output Format:\n",
        "        Value: [total reach value in number format without any descriptions], SQL Query: [Generated SQL query]\n",
        "        \"\"\"\n",
        "\n",
        "        try:\n",
        "            response = client.chat.completions.create(\n",
        "                model=\"gpt-4\",\n",
        "                messages=[\n",
        "                    {\"role\": \"system\", \"content\": \"You are a helpful assistant that extracts metrics and generates SQL queries. Ensure the SQL queries are accurate, based on the given schema.\"},\n",
        "                    {\"role\": \"user\", \"content\": user_message},\n",
        "                ]\n",
        "            )\n",
        "\n",
        "            result = response.choices[0].message.content\n",
        "            sql_queries.append({'text': result, 'start': start, 'end': end})\n",
        "        except Exception as e:\n",
        "            sql_queries.append({'text': f\"Error: {str(e)}\", 'start': start, 'end': end})\n",
        "\n",
        "    return sql_queries"
      ]
    },
    {
      "cell_type": "code",
      "execution_count": 31,
      "metadata": {
        "colab": {
          "base_uri": "https://localhost:8080/"
        },
        "id": "ta2VQVtpS1cz",
        "outputId": "08bced76-a26f-4e08-b40e-d6cc264d8dda"
      },
      "outputs": [
        {
          "name": "stdout",
          "output_type": "stream",
          "text": [
            "[{'text': \"Since the text segment doesn't provide a total watch time value and doesn't specify any conditions that were not in the original SQL query, I’ll use the query as it is. Although the segment mentions April, the original query already takes this into account. It also mentions all devices including CTV which is already accounted for in the original query with 'DESKTOP_MOBILE_TABLET_TV'.\\n\\nSQL Query:\\n```sql\\nSELECT MAX(watch_time_min) AS watch_time_min FROM yt_mp_relaylog_data.FirstPartyWatchViews.all WHERE start_date IN ('2024-04') AND platform = 'DESKTOP_MOBILE_TABLET_TV' AND country = 'US' AND partner = 'NIELSEN' AND min_sec = 0 AND timezone = 'America/New_York';\\n```\\n\\nAs the text segment does not provide any specific total watch time value, it's not possible to extract this information. Confirmed outputs would need the actual execution of the SQL query for a specific database.\\n\\nOutput Format: \\nValue: [Not Provided], SQL Query: [Provided Above]\", 'start': 0.0, 'end': 25.239999771118164}, {'text': \"Value: 2363666772, SQL Query: SELECT MAX(watch_time_min) AS watch_time_min FROM yt_mp_relaylog_data.FirstPartyWatchViews.all WHERE start_date IN ('2024-04') AND platform = 'DESKTOP_MOBILE_TABLET_TV' AND country = 'US' AND partner = 'NIELSEN' AND min_sec = 0 AND timezone = 'America/New_York';\", 'start': 25.239999771118164, 'end': 36.959999084472656}, {'text': \"Value: 2421175412, SQL Query: SELECT MAX(watch_time_min) AS watch_time_min FROM yt_mp_relaylog_data.FirstPartyWatchViews.all WHERE start_date IN ('2024-05') AND platform = 'DESKTOP_MOBILE_TABLET_TV' AND country = 'US' AND partner = 'NIELSEN' AND min_sec = 0 AND timezone = 'America/New_York';\", 'start': 36.959999084472656, 'end': 68.87999725341797}, {'text': \"Value: 18,230,148,949, SQL Query: SELECT MAX(watch_time_min) AS watch_time_min FROM yt_mp_relaylog_data.FirstPartyWatchViews.all WHERE start_date IN ('2024-05') AND platform = 'DESKTOP_MOBILE_TABLET_TV' AND country = 'US' AND partner = 'NIELSEN' AND min_sec = 0 AND timezone = 'America/New_York';\", 'start': 68.87999725341797, 'end': 100.87999725341797}, {'text': \"Value: 2920230254, SQL Query: SELECT MAX(watch_time_min) AS watch_time_min FROM yt_mp_relaylog_data.FirstPartyWatchViews.all WHERE start_date IN ('2024-04') AND platform = 'DESKTOP_MOBILE_TABLET_TV' AND country = 'US' AND partner = 'NIELSEN' AND min_sec = 0 AND timezone = 'America/New_York';\\n\\nValue: 2960705540, SQL Query: SELECT MAX(watch_time_min) AS watch_time_min FROM yt_mp_relaylog_data.FirstPartyWatchViews.all WHERE start_date IN ('2024-05') AND platform = 'DESKTOP_MOBILE_TABLET_TV' AND country = 'US' AND partner = 'NIELSEN' AND min_sec = 0 AND timezone = 'America/New_York';\\n\\nValue: 255215486163, SQL Query: SELECT MAX(watch_time_min) AS watch_time_min FROM yt_mp_relaylog_data.FirstPartyWatchViews.all WHERE start_date IN ('2024-05') AND platform = 'TV' AND country = 'US' AND partner = 'NIELSEN' AND min_sec = 0 AND timezone = 'America/New_York';\\n\\nValue: 257339257587, SQL Query: SELECT MAX(watch_time_min) AS watch_time_min FROM yt_mp_relaylog_data.FirstPartyWatchViews.all WHERE start_date IN ('2024-05') AND platform = 'TV' AND country = 'US' AND partner = 'NIELSEN' AND min_sec = 0 AND timezone = 'America/New_York';\", 'start': 100.87999725341797, 'end': 131.63999938964844}]\n"
          ]
        }
      ],
      "source": [
        "# Extract watch time metrics and generate SQL queries\n",
        "watch_time_sql_queries = extract_watch_time_metrics_and_generate_sql(filtered_segments)\n",
        "print(watch_time_sql_queries)"
      ]
    },
    {
      "cell_type": "code",
      "execution_count": 32,
      "metadata": {
        "colab": {
          "base_uri": "https://localhost:8080/"
        },
        "id": "wSMo037wS3tz",
        "outputId": "b3166861-283e-4f51-cb87-31cfe1960a1e"
      },
      "outputs": [
        {
          "name": "stdout",
          "output_type": "stream",
          "text": [
            "[{'text': \"Value: 2370069038, SQL Query: select sum(editorial_reach) as editorial_reach from ads_people_metrics.yt_reach_artifacts.2024 where country_code = 'US' and device = 'CTV' and model like 'quito_%' AND start_date = 20240401 and age_range NOT IN ('0-17')\", 'start': 0.0, 'end': 25.239999771118164}, {'text': \"Value: 2363666772, SQL Query: select sum(editorial_reach) as editorial_reach from ads_people_metrics.yt_reach_artifacts.2024 where country_code = 'US' and device = 'CTV' and model like 'quito_%' AND start_date = 20240401 and age_range NOT IN ('0-17')\", 'start': 25.239999771118164, 'end': 36.959999084472656}, {'text': \"Value: 2427415712, SQL Query: SELECT SUM(editorial_reach) as editorial_reach FROM ads_people_metrics.yt_reach_artifacts.2024 WHERE country_code = 'US' AND device = 'CTV' AND model LIKE 'quito_%' AND start_date = 20240501 AND age_range NOT IN ('0-17')\", 'start': 36.959999084472656, 'end': 68.87999725341797}, {'text': \"Value: 17858883395 \\nSQL Query: select sum(editorial_reach) as editorial_reach from ads_people_metrics.yt_reach_artifacts.2024 where country_code = 'US' and device = 'CTV' and model like 'quito_%' AND start_date = 20240401 AND age_range NOT IN ('0-17') \\n\\nValue: 18230148949 \\nSQL Query: select sum(editorial_reach) as editorial_reach from ads_people_metrics.yt_reach_artifacts.2024 where country_code = 'US' and device = 'CTV' and model like 'quito_%' AND start_date = 20240501 AND age_range NOT IN ('0-17')\", 'start': 68.87999725341797, 'end': 100.87999725341797}, {'text': \"Value: 2,920,230,254, SQL Query: select sum(editorial_reach) as editorial_reach from ads_people_metrics.yt_reach_artifacts.2024 where country_code = 'US' and device = 'CTV' and model like 'quito_%' AND start_date = 20240401 and age_range NOT IN ('0-17')\\n\\nValue: 2,960,705,540, SQL Query: select sum(editorial_reach) as editorial_reach from ads_people_metrics.yt_reach_artifacts.2024 where country_code = 'US' and device = 'CTV' and model like 'quito_%' AND start_date = 20240501 and age_range NOT IN ('0-17')\", 'start': 100.87999725341797, 'end': 131.63999938964844}]\n"
          ]
        }
      ],
      "source": [
        "# Extract reach metrics and generate SQL queries\n",
        "reach_sql_queries = extract_reach_metrics_and_generate_sql(filtered_segments)\n",
        "print(reach_sql_queries)\n"
      ]
    },
    {
      "cell_type": "code",
      "execution_count": 33,
      "metadata": {
        "id": "lpK25TLge4ES"
      },
      "outputs": [],
      "source": [
        "# Simplified validation function for SQL queries\n",
        "def validate_sql_query(query):\n",
        "    # Check if the query contains both \"SQL Query:\" and starts with \"Value:\"\n",
        "    return \"SQL Query:\" in query and query.strip().startswith(\"Value:\")"
      ]
    },
    {
      "cell_type": "code",
      "execution_count": 34,
      "metadata": {
        "colab": {
          "base_uri": "https://localhost:8080/"
        },
        "id": "c9cI9UzZe6ox",
        "outputId": "50f252e5-4c46-4b81-a4ca-41a082234ef6"
      },
      "outputs": [
        {
          "name": "stdout",
          "output_type": "stream",
          "text": [
            "[{'text': \"Value: 2363666772, SQL Query: SELECT MAX(watch_time_min) AS watch_time_min FROM yt_mp_relaylog_data.FirstPartyWatchViews.all WHERE start_date IN ('2024-04') AND platform = 'DESKTOP_MOBILE_TABLET_TV' AND country = 'US' AND partner = 'NIELSEN' AND min_sec = 0 AND timezone = 'America/New_York';\", 'start': 25.239999771118164, 'end': 36.959999084472656}, {'text': \"Value: 2421175412, SQL Query: SELECT MAX(watch_time_min) AS watch_time_min FROM yt_mp_relaylog_data.FirstPartyWatchViews.all WHERE start_date IN ('2024-05') AND platform = 'DESKTOP_MOBILE_TABLET_TV' AND country = 'US' AND partner = 'NIELSEN' AND min_sec = 0 AND timezone = 'America/New_York';\", 'start': 36.959999084472656, 'end': 68.87999725341797}, {'text': \"Value: 18,230,148,949, SQL Query: SELECT MAX(watch_time_min) AS watch_time_min FROM yt_mp_relaylog_data.FirstPartyWatchViews.all WHERE start_date IN ('2024-05') AND platform = 'DESKTOP_MOBILE_TABLET_TV' AND country = 'US' AND partner = 'NIELSEN' AND min_sec = 0 AND timezone = 'America/New_York';\", 'start': 68.87999725341797, 'end': 100.87999725341797}, {'text': \"Value: 2920230254, SQL Query: SELECT MAX(watch_time_min) AS watch_time_min FROM yt_mp_relaylog_data.FirstPartyWatchViews.all WHERE start_date IN ('2024-04') AND platform = 'DESKTOP_MOBILE_TABLET_TV' AND country = 'US' AND partner = 'NIELSEN' AND min_sec = 0 AND timezone = 'America/New_York';\\n\\nValue: 2960705540, SQL Query: SELECT MAX(watch_time_min) AS watch_time_min FROM yt_mp_relaylog_data.FirstPartyWatchViews.all WHERE start_date IN ('2024-05') AND platform = 'DESKTOP_MOBILE_TABLET_TV' AND country = 'US' AND partner = 'NIELSEN' AND min_sec = 0 AND timezone = 'America/New_York';\\n\\nValue: 255215486163, SQL Query: SELECT MAX(watch_time_min) AS watch_time_min FROM yt_mp_relaylog_data.FirstPartyWatchViews.all WHERE start_date IN ('2024-05') AND platform = 'TV' AND country = 'US' AND partner = 'NIELSEN' AND min_sec = 0 AND timezone = 'America/New_York';\\n\\nValue: 257339257587, SQL Query: SELECT MAX(watch_time_min) AS watch_time_min FROM yt_mp_relaylog_data.FirstPartyWatchViews.all WHERE start_date IN ('2024-05') AND platform = 'TV' AND country = 'US' AND partner = 'NIELSEN' AND min_sec = 0 AND timezone = 'America/New_York';\", 'start': 100.87999725341797, 'end': 131.63999938964844}]\n"
          ]
        }
      ],
      "source": [
        "# Filter out invalid queries for watch time\n",
        "valid_watch_time_sql_queries = [query for query in watch_time_sql_queries if validate_sql_query(query['text'])]\n",
        "print(valid_watch_time_sql_queries)"
      ]
    },
    {
      "cell_type": "code",
      "execution_count": 35,
      "metadata": {
        "colab": {
          "base_uri": "https://localhost:8080/"
        },
        "id": "eR87llNmTePh",
        "outputId": "07a41e90-506b-4687-93f0-2f46f9340120"
      },
      "outputs": [
        {
          "name": "stdout",
          "output_type": "stream",
          "text": [
            "[{'text': \"Value: 2370069038, SQL Query: select sum(editorial_reach) as editorial_reach from ads_people_metrics.yt_reach_artifacts.2024 where country_code = 'US' and device = 'CTV' and model like 'quito_%' AND start_date = 20240401 and age_range NOT IN ('0-17')\", 'start': 0.0, 'end': 25.239999771118164}, {'text': \"Value: 2363666772, SQL Query: select sum(editorial_reach) as editorial_reach from ads_people_metrics.yt_reach_artifacts.2024 where country_code = 'US' and device = 'CTV' and model like 'quito_%' AND start_date = 20240401 and age_range NOT IN ('0-17')\", 'start': 25.239999771118164, 'end': 36.959999084472656}, {'text': \"Value: 2427415712, SQL Query: SELECT SUM(editorial_reach) as editorial_reach FROM ads_people_metrics.yt_reach_artifacts.2024 WHERE country_code = 'US' AND device = 'CTV' AND model LIKE 'quito_%' AND start_date = 20240501 AND age_range NOT IN ('0-17')\", 'start': 36.959999084472656, 'end': 68.87999725341797}, {'text': \"Value: 17858883395 \\nSQL Query: select sum(editorial_reach) as editorial_reach from ads_people_metrics.yt_reach_artifacts.2024 where country_code = 'US' and device = 'CTV' and model like 'quito_%' AND start_date = 20240401 AND age_range NOT IN ('0-17') \\n\\nValue: 18230148949 \\nSQL Query: select sum(editorial_reach) as editorial_reach from ads_people_metrics.yt_reach_artifacts.2024 where country_code = 'US' and device = 'CTV' and model like 'quito_%' AND start_date = 20240501 AND age_range NOT IN ('0-17')\", 'start': 68.87999725341797, 'end': 100.87999725341797}, {'text': \"Value: 2,920,230,254, SQL Query: select sum(editorial_reach) as editorial_reach from ads_people_metrics.yt_reach_artifacts.2024 where country_code = 'US' and device = 'CTV' and model like 'quito_%' AND start_date = 20240401 and age_range NOT IN ('0-17')\\n\\nValue: 2,960,705,540, SQL Query: select sum(editorial_reach) as editorial_reach from ads_people_metrics.yt_reach_artifacts.2024 where country_code = 'US' and device = 'CTV' and model like 'quito_%' AND start_date = 20240501 and age_range NOT IN ('0-17')\", 'start': 100.87999725341797, 'end': 131.63999938964844}]\n"
          ]
        }
      ],
      "source": [
        "# Filter out invalid queries for reach\n",
        "valid_reach_sql_queries = [query for query in reach_sql_queries if validate_sql_query(query['text'])]\n",
        "print(valid_reach_sql_queries)"
      ]
    },
    {
      "cell_type": "code",
      "execution_count": 40,
      "metadata": {
        "id": "TGPpFYC-gNPh"
      },
      "outputs": [],
      "source": [
        "def extract_sql_from_text(text):\n",
        "    match = re.search(r'SQL Query:\\s*```sql\\n(.*?)\\n```', text, re.IGNORECASE | re.DOTALL)\n",
        "    if not match:\n",
        "        match = re.search(r'SQL Query:\\s*(.*)', text, re.IGNORECASE)\n",
        "    if match:\n",
        "        sql_query = match.group(1).strip()\n",
        "        # Ensure the query is either SUM or MAX type\n",
        "        if re.match(r'select\\s+(sum|max)\\(\\w+\\)', sql_query, re.IGNORECASE):\n",
        "            return sql_query\n",
        "    return None\n",
        "def extract_value_from_text(text):\n",
        "    match = re.search(r'Value:\\s*([\\d,]+)', text)\n",
        "    if match:\n",
        "        return match.group(1).replace(',', '')\n",
        "    return None"
      ]
    },
    {
      "cell_type": "code",
      "execution_count": 43,
      "metadata": {
        "colab": {
          "base_uri": "https://localhost:8080/"
        },
        "id": "VSRGsIdITmAH",
        "outputId": "c445b2d2-0f0f-4751-de50-3afd8422eeb6"
      },
      "outputs": [
        {
          "name": "stdout",
          "output_type": "stream",
          "text": [
            "[\"Value: 2363666772, SQL Query: SELECT MAX(watch_time_min) AS watch_time_min FROM yt_mp_relaylog_data.FirstPartyWatchViews.all WHERE start_date IN ('2024-04') AND platform = 'DESKTOP_MOBILE_TABLET_TV' AND country = 'US' AND partner = 'NIELSEN' AND min_sec = 0 AND timezone = 'America/New_York';\", \"Value: 2421175412, SQL Query: SELECT MAX(watch_time_min) AS watch_time_min FROM yt_mp_relaylog_data.FirstPartyWatchViews.all WHERE start_date IN ('2024-05') AND platform = 'DESKTOP_MOBILE_TABLET_TV' AND country = 'US' AND partner = 'NIELSEN' AND min_sec = 0 AND timezone = 'America/New_York';\"]\n"
          ]
        }
      ],
      "source": [
        "# Extract distinct SQL queries and their corresponding values\n",
        "distinct_queries = {}\n",
        "for query in valid_watch_time_sql_queries:\n",
        "    original_sql = extract_sql_from_text(query['text'])\n",
        "    value = extract_value_from_text(query['text'])\n",
        "    if original_sql and value:\n",
        "        normalized_sql = original_sql.lower()\n",
        "        if normalized_sql not in distinct_queries:\n",
        "            distinct_queries[normalized_sql] = {'original_sql': original_sql, 'value': value}\n",
        "\n",
        "# Export distinct SQL queries and their values to a text file\n",
        "with open('watch_time_sql_queries.txt', 'w') as file:\n",
        "    for query in distinct_queries.values():\n",
        "        file.write(f\"Value: {query['value']}, SQL Query: {query['original_sql']}\\n\")\n",
        "\n",
        "# Print the unique queries and values\n",
        "unique_watch_queries = [f\"Value: {query['value']}, SQL Query: {query['original_sql']}\" for query in distinct_queries.values()]\n",
        "print(unique_watch_queries)"
      ]
    },
    {
      "cell_type": "code",
      "execution_count": 44,
      "metadata": {
        "colab": {
          "base_uri": "https://localhost:8080/"
        },
        "id": "Qxiez0N9Tmk_",
        "outputId": "6c8ae978-2a4a-4a11-9d10-82c86937d258"
      },
      "outputs": [
        {
          "name": "stdout",
          "output_type": "stream",
          "text": [
            "[\"Value: 2370069038, SQL Query: select sum(editorial_reach) as editorial_reach from ads_people_metrics.yt_reach_artifacts.2024 where country_code = 'US' and device = 'CTV' and model like 'quito_%' AND start_date = 20240401 and age_range NOT IN ('0-17')\", \"Value: 2427415712, SQL Query: SELECT SUM(editorial_reach) as editorial_reach FROM ads_people_metrics.yt_reach_artifacts.2024 WHERE country_code = 'US' AND device = 'CTV' AND model LIKE 'quito_%' AND start_date = 20240501 AND age_range NOT IN ('0-17')\"]\n"
          ]
        }
      ],
      "source": [
        "# Extract distinct SQL queries and their corresponding values\n",
        "distinct_queries = {}\n",
        "for query in valid_reach_sql_queries:\n",
        "    original_sql = extract_sql_from_text(query['text'])\n",
        "    value = extract_value_from_text(query['text'])\n",
        "    if original_sql and value:\n",
        "        normalized_sql = original_sql.lower()\n",
        "        if normalized_sql not in distinct_queries:\n",
        "            distinct_queries[normalized_sql] = {'original_sql': original_sql, 'value': value}\n",
        "\n",
        "# Export distinct SQL queries and their values to a text file\n",
        "with open('reach_sql_queries.txt', 'w') as file:\n",
        "    for query in distinct_queries.values():\n",
        "        file.write(f\"Value: {query['value']}, SQL Query: {query['original_sql']}\\n\")\n",
        "\n",
        "# Print the unique queries and values\n",
        "unique_reach_queries = [f\"Value: {query['value']}, SQL Query: {query['original_sql']}\" for query in distinct_queries.values()]\n",
        "print(unique_reach_queries)"
      ]
    }
  ],
  "metadata": {
    "colab": {
      "provenance": []
    },
    "kernelspec": {
      "display_name": "Python 3",
      "name": "python3"
    },
    "language_info": {
      "name": "python"
    }
  },
  "nbformat": 4,
  "nbformat_minor": 0
}
