{
  "nbformat": 4,
  "nbformat_minor": 0,
  "metadata": {
    "colab": {
      "provenance": []
    },
    "kernelspec": {
      "name": "python3",
      "display_name": "Python 3"
    },
    "language_info": {
      "name": "python"
    }
  },
  "cells": [
    {
      "cell_type": "code",
      "source": [
        "!pip install mysql-connector-python"
      ],
      "metadata": {
        "colab": {
          "base_uri": "https://localhost:8080/"
        },
        "id": "o3esJnQDKVXE",
        "outputId": "094931a4-4c59-49c8-98f4-d8e3ba5ed762"
      },
      "execution_count": 1,
      "outputs": [
        {
          "output_type": "stream",
          "name": "stdout",
          "text": [
            "Collecting mysql-connector-python\n",
            "  Downloading mysql_connector_python-9.0.0-cp310-cp310-manylinux_2_17_x86_64.whl.metadata (2.0 kB)\n",
            "Downloading mysql_connector_python-9.0.0-cp310-cp310-manylinux_2_17_x86_64.whl (19.3 MB)\n",
            "\u001b[2K   \u001b[90m━━━━━━━━━━━━━━━━━━━━━━━━━━━━━━━━━━━━━━━━\u001b[0m \u001b[32m19.3/19.3 MB\u001b[0m \u001b[31m41.6 MB/s\u001b[0m eta \u001b[36m0:00:00\u001b[0m\n",
            "\u001b[?25hInstalling collected packages: mysql-connector-python\n",
            "Successfully installed mysql-connector-python-9.0.0\n"
          ]
        }
      ]
    },
    {
      "cell_type": "code",
      "source": [
        "import mysql.connector\n",
        "import re\n",
        "import pandas as pd"
      ],
      "metadata": {
        "id": "ihhya4WcKXaT"
      },
      "execution_count": 2,
      "outputs": []
    },
    {
      "cell_type": "code",
      "execution_count": null,
      "metadata": {
        "id": "ol3HeklaKPOf"
      },
      "outputs": [],
      "source": [
        "# Connect to MySQL database\n",
        "def connect_to_db():\n",
        "    return mysql.connector.connect(\n",
        "        host=\"your_host\",\n",
        "        user=\"your_username\",\n",
        "        password=\"your_password\",\n",
        "        database=\"your_database\"\n",
        "    )\n",
        "\n",
        "# Execute SQL query and return result\n",
        "def execute_sql_query(query):\n",
        "    db = connect_to_db()\n",
        "    cursor = db.cursor()\n",
        "    cursor.execute(query)\n",
        "    result = cursor.fetchone()[0]\n",
        "    db.close()\n",
        "    return result"
      ]
    },
    {
      "cell_type": "code",
      "source": [
        "def extract_queries_from_file(file_path):\n",
        "    queries = []\n",
        "    pattern = re.compile(r\"Value: (\\d+), SQL Query: (.+)\")\n",
        "\n",
        "    with open(file_path, 'r') as file:\n",
        "        for line in file:\n",
        "            match = pattern.search(line)\n",
        "            if match:\n",
        "                value = match.group(1)\n",
        "                sql_query = match.group(2)\n",
        "                queries.append((value, sql_query))\n",
        "\n",
        "    return queries"
      ],
      "metadata": {
        "id": "ReA-Gbd0Ka1D"
      },
      "execution_count": null,
      "outputs": []
    },
    {
      "cell_type": "code",
      "source": [
        "def parse_query(query_string):\n",
        "    # Extract the value and query from the string\n",
        "    value_part, query_part = query_string.split(\", SQL Query: \")\n",
        "    value = int(value_part.split(\": \")[1])\n",
        "    query = query_part.strip()\n",
        "    return value, query"
      ],
      "metadata": {
        "id": "ThD9hs7Vu74I"
      },
      "execution_count": 10,
      "outputs": []
    },
    {
      "cell_type": "code",
      "source": [
        "def validate_queries(queries, threshold):\n",
        "    results = []\n",
        "\n",
        "    for query_string in queries:\n",
        "        value, query = parse_query(query_string)\n",
        "        # query_result = execute_sql_query(query)\n",
        "        query_result = 0  # This is a placeholder, replace with actual query execution\n",
        "        difference = abs(value - query_result)\n",
        "        pass_fail = \"Pass\" if difference <= value * threshold else \"Fail\"\n",
        "        results.append({\n",
        "            \"Expected Value\": value,\n",
        "            \"Query Result\": query_result,\n",
        "            \"Difference\": difference,\n",
        "            \"Result\": pass_fail\n",
        "        })\n",
        "\n",
        "    return pd.DataFrame(results)"
      ],
      "metadata": {
        "id": "2ax5lY7fMyni"
      },
      "execution_count": 11,
      "outputs": []
    },
    {
      "cell_type": "code",
      "source": [
        "reach_queries = [\"Value: 2370069038, SQL Query: select sum(editorial_reach) as editorial_reach from ads_people_metrics.yt_reach_artifacts.2024 where country_code = 'US' and device = 'CTV' and model like 'quito_%' AND start_date = 20240401 and age_range NOT IN ('0-17')\", \"Value: 2427415712, SQL Query: SELECT SUM(editorial_reach) as editorial_reach FROM ads_people_metrics.yt_reach_artifacts.2024 WHERE country_code = 'US' AND device = 'CTV' AND model LIKE 'quito_%' AND start_date = 20240501 AND age_range NOT IN ('0-17')\"];"
      ],
      "metadata": {
        "id": "rG4GtwwetlMn"
      },
      "execution_count": 15,
      "outputs": []
    },
    {
      "cell_type": "code",
      "source": [
        "watch_time_queries = [\"Value: 2363666772, SQL Query: SELECT MAX(watch_time_min) AS watch_time_min FROM yt_mp_relaylog_data.FirstPartyWatchViews.all WHERE start_date IN ('2024-04') AND platform = 'DESKTOP_MOBILE_TABLET_TV' AND country = 'US' AND partner = 'NIELSEN' AND min_sec = 0 AND timezone = 'America/New_York';\", \"Value: 2421175412, SQL Query: SELECT MAX(watch_time_min) AS watch_time_min FROM yt_mp_relaylog_data.FirstPartyWatchViews.all WHERE start_date IN ('2024-05') AND platform = 'DESKTOP_MOBILE_TABLET_TV' AND country = 'US' AND partner = 'NIELSEN' AND min_sec = 0 AND timezone = 'America/New_York';\"];"
      ],
      "metadata": {
        "id": "uZfkoYT4tlDP"
      },
      "execution_count": 13,
      "outputs": []
    },
    {
      "cell_type": "code",
      "source": [
        "# reach_file_path = 'reach_sql_queries.txt'\n",
        "# watch_time_file_path = 'watch_time_sql_queries.txt'\n",
        "\n",
        "# reach_queries = extract_queries_from_file(reach_file_path)\n",
        "# watch_time_queries = extract_queries_from_file(watch_time_file_path)\n",
        "\n",
        "watch_time_results = validate_queries(watch_time_queries, 0.1)\n",
        "reach_results = validate_queries(reach_queries, 0.1)\n",
        "print(\"REACH RESULTS:\")\n",
        "print(reach_results)\n",
        "print(\"WATCH TIME RESULTS:\")\n",
        "print(watch_time_results)"
      ],
      "metadata": {
        "colab": {
          "base_uri": "https://localhost:8080/"
        },
        "id": "uQDmWZ0nLUf_",
        "outputId": "8bd835c7-bd26-4161-aaf7-75493a0ec0f2"
      },
      "execution_count": 16,
      "outputs": [
        {
          "output_type": "stream",
          "name": "stdout",
          "text": [
            "REACH RESULTS:\n",
            "   Expected Value  Query Result  Difference Result\n",
            "0      2370069038             0  2370069038   Fail\n",
            "1      2427415712             0  2427415712   Fail\n",
            "WATCH TIME RESULTS:\n",
            "   Expected Value  Query Result  Difference Result\n",
            "0      2363666772             0  2363666772   Fail\n",
            "1      2421175412             0  2421175412   Fail\n"
          ]
        }
      ]
    }
  ]
}